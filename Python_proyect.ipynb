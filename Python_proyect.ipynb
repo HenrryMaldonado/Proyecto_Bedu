{
 "cells": [
  {
   "cell_type": "markdown",
   "id": "ed73f31b-86bc-49c4-bba1-41719f146f81",
   "metadata": {},
   "source": [
    "# Pythom proyect"
   ]
  },
  {
   "cell_type": "code",
   "execution_count": null,
   "id": "310a8f7b-7d87-4c55-9812-e30534b62b6b",
   "metadata": {},
   "outputs": [],
   "source": []
  }
 ],
 "metadata": {
  "kernelspec": {
   "display_name": "Python 3 (ipykernel)",
   "language": "python",
   "name": "python3"
  },
  "language_info": {
   "codemirror_mode": {
    "name": "ipython",
    "version": 3
   },
   "file_extension": ".py",
   "mimetype": "text/x-python",
   "name": "python",
   "nbconvert_exporter": "python",
   "pygments_lexer": "ipython3",
   "version": "3.10.11"
  }
 },
 "nbformat": 4,
 "nbformat_minor": 5
}
